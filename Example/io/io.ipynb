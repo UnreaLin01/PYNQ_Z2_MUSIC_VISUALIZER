{
 "cells": [
  {
   "cell_type": "code",
   "execution_count": 1,
   "id": "13871c4e",
   "metadata": {
    "scrolled": true
   },
   "outputs": [
    {
     "data": {
      "application/javascript": [
       "\n",
       "try {\n",
       "require(['notebook/js/codecell'], function(codecell) {\n",
       "  codecell.CodeCell.options_default.highlight_modes[\n",
       "      'magic_text/x-csrc'] = {'reg':[/^%%microblaze/]};\n",
       "  Jupyter.notebook.events.one('kernel_ready.Kernel', function(){\n",
       "      Jupyter.notebook.get_cells().map(function(cell){\n",
       "          if (cell.cell_type == 'code'){ cell.auto_highlight(); } }) ;\n",
       "  });\n",
       "});\n",
       "} catch (e) {};\n"
      ]
     },
     "metadata": {},
     "output_type": "display_data"
    },
    {
     "data": {
      "application/javascript": [
       "\n",
       "try {\n",
       "require(['notebook/js/codecell'], function(codecell) {\n",
       "  codecell.CodeCell.options_default.highlight_modes[\n",
       "      'magic_text/x-csrc'] = {'reg':[/^%%pybind11/]};\n",
       "  Jupyter.notebook.events.one('kernel_ready.Kernel', function(){\n",
       "      Jupyter.notebook.get_cells().map(function(cell){\n",
       "          if (cell.cell_type == 'code'){ cell.auto_highlight(); } }) ;\n",
       "  });\n",
       "});\n",
       "} catch (e) {};\n"
      ]
     },
     "metadata": {},
     "output_type": "display_data"
    },
    {
     "name": "stdout",
     "output_type": "stream",
     "text": [
      "dict_keys(['axi_dma_0', 'btns', 'leds', 'sws', 'processing_system7_0'])\n"
     ]
    }
   ],
   "source": [
    "from pynq import Overlay, PL\n",
    "from pynq.lib import AxiGPIO\n",
    "\n",
    "PL.reset()\n",
    "\n",
    "overlay = Overlay(\"design_1_wrapper.bit\")\n",
    "print(overlay.ip_dict.keys())\n"
   ]
  },
  {
   "cell_type": "code",
   "execution_count": 2,
   "id": "18aaa027",
   "metadata": {},
   "outputs": [
    {
     "name": "stdout",
     "output_type": "stream",
     "text": [
      "<pynq.lib.axigpio.AxiGPIO object at 0xb3842a30>\n",
      "<pynq.lib.axigpio.AxiGPIO object at 0xb3842af0>\n",
      "<pynq.lib.axigpio.AxiGPIO object at 0xb3842190>\n"
     ]
    }
   ],
   "source": [
    "print(overlay.leds)\n",
    "print(overlay.btns)\n",
    "print(overlay.sws)"
   ]
  },
  {
   "cell_type": "code",
   "execution_count": 3,
   "id": "70ecbf47",
   "metadata": {},
   "outputs": [],
   "source": [
    "leds = overlay.leds.channel1\n",
    "leds.write(0b0100, 0b1111)"
   ]
  },
  {
   "cell_type": "code",
   "execution_count": 4,
   "id": "1e09b354",
   "metadata": {},
   "outputs": [
    {
     "name": "stdout",
     "output_type": "stream",
     "text": [
      "0\n"
     ]
    }
   ],
   "source": [
    "btns = overlay.btns.channel1\n",
    "print(btns.read())"
   ]
  },
  {
   "cell_type": "code",
   "execution_count": 6,
   "id": "f70efed3",
   "metadata": {},
   "outputs": [
    {
     "name": "stdout",
     "output_type": "stream",
     "text": [
      "0\n"
     ]
    }
   ],
   "source": [
    "sws = overlay.sws.channel1\n",
    "print(sws.read())"
   ]
  },
  {
   "cell_type": "code",
   "execution_count": 36,
   "id": "09cbcbd0",
   "metadata": {},
   "outputs": [],
   "source": [
    "# Pack Operations into one class for easy use.\n",
    "\n",
    "from pynq.lib import AxiGPIO\n",
    "\n",
    "class IO:\n",
    "    def __init__(self, overlay):\n",
    "        self.leds = overlay.leds.channel1\n",
    "        self.btns = overlay.btns.channel1\n",
    "        self.sws = overlay.sws.channel1\n",
    "        \n",
    "    def set_led(self, index, state):\n",
    "        if index <= 3 and index >= 0:\n",
    "            if state == 1 or state == 0:\n",
    "                self.leds.write(state << index, 0b0001 << index)\n",
    "                \n",
    "    def set_led_all(self, state):\n",
    "        if state == 1:\n",
    "            self.leds.write(0b1111, 0b1111)\n",
    "        elif state == 0:\n",
    "            self.leds.write(0b0000, 0b1111)\n",
    "            \n",
    "    def get_btn_state(self, index):\n",
    "        if index <= 3 and index >= 0:\n",
    "            return (self.btns.read() >> index) & 0b0001\n",
    "        return -1\n",
    "        \n",
    "    def get_sw_state(self, index):\n",
    "        if index <= 1 and index >= 0:\n",
    "            return (self.sws.read() >> index) & 0b0001\n",
    "        return -1\n",
    "            \n",
    "        "
   ]
  },
  {
   "cell_type": "code",
   "execution_count": 43,
   "id": "a9fccae7",
   "metadata": {},
   "outputs": [
    {
     "name": "stdout",
     "output_type": "stream",
     "text": [
      "0\n",
      "0\n"
     ]
    }
   ],
   "source": [
    "io = IO()\n",
    "io.set_led_all(1)\n",
    "print(io.get_btn_state(0))\n",
    "print(io.get_sw_state(0))"
   ]
  }
 ],
 "metadata": {
  "kernelspec": {
   "display_name": "Python 3 (ipykernel)",
   "language": "python",
   "name": "python3"
  },
  "language_info": {
   "codemirror_mode": {
    "name": "ipython",
    "version": 3
   },
   "file_extension": ".py",
   "mimetype": "text/x-python",
   "name": "python",
   "nbconvert_exporter": "python",
   "pygments_lexer": "ipython3",
   "version": "3.10.4"
  }
 },
 "nbformat": 4,
 "nbformat_minor": 5
}
