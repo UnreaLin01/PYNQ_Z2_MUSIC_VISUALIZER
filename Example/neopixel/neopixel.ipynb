{
 "cells": [
  {
   "cell_type": "code",
   "execution_count": 1,
   "metadata": {},
   "outputs": [
    {
     "data": {
      "application/javascript": [
       "\n",
       "try {\n",
       "require(['notebook/js/codecell'], function(codecell) {\n",
       "  codecell.CodeCell.options_default.highlight_modes[\n",
       "      'magic_text/x-csrc'] = {'reg':[/^%%microblaze/]};\n",
       "  Jupyter.notebook.events.one('kernel_ready.Kernel', function(){\n",
       "      Jupyter.notebook.get_cells().map(function(cell){\n",
       "          if (cell.cell_type == 'code'){ cell.auto_highlight(); } }) ;\n",
       "  });\n",
       "});\n",
       "} catch (e) {};\n"
      ]
     },
     "metadata": {},
     "output_type": "display_data"
    },
    {
     "data": {
      "application/javascript": [
       "\n",
       "try {\n",
       "require(['notebook/js/codecell'], function(codecell) {\n",
       "  codecell.CodeCell.options_default.highlight_modes[\n",
       "      'magic_text/x-csrc'] = {'reg':[/^%%pybind11/]};\n",
       "  Jupyter.notebook.events.one('kernel_ready.Kernel', function(){\n",
       "      Jupyter.notebook.get_cells().map(function(cell){\n",
       "          if (cell.cell_type == 'code'){ cell.auto_highlight(); } }) ;\n",
       "  });\n",
       "});\n",
       "} catch (e) {};\n"
      ]
     },
     "metadata": {},
     "output_type": "display_data"
    }
   ],
   "source": [
    "from pynq import Overlay\n",
    "from pynq import MMIO\n",
    "\n",
    "overlay = Overlay(\"design_1_wrapper.bit\", download = True)\n",
    "\n",
    "# Base address can be found in the Vivado Address Editor.\n",
    "base_address = 0x40000000\n",
    "\n",
    "# Memory size is determined by the BRAM IP's setting.\n",
    "mem_size = 1024\n",
    "\n",
    "mmio = MMIO(base_address, mem_size)"
   ]
  },
  {
   "cell_type": "code",
   "execution_count": 4,
   "metadata": {},
   "outputs": [],
   "source": [
    "# Set the number of LED.\n",
    "led_num = 9\n",
    "\n",
    "# 0x0 is the memory address which store the number of LED.\n",
    "# When the data is non-zero, the IP will start to execute and output LED's signal.\n",
    "address_offset = 0x0\n",
    "mmio.write(address_offset, led_num)"
   ]
  },
  {
   "cell_type": "code",
   "execution_count": 3,
   "metadata": {},
   "outputs": [],
   "source": [
    "# Color format: 0xGGRRBB\n",
    "color = 0xff0000  # Pure green\n",
    "# Memory address that controls the first addressable RGB LED\n",
    "address_offset = 0x4\n",
    "mmio.write(address_offset, color)\n",
    "\n",
    "color = 0x00ff00  # Pure red\n",
    "# Memory address that controls the second addressable RGB LED\n",
    "address_offset = 0x8\n",
    "mmio.write(address_offset, color)"
   ]
  },
  {
   "cell_type": "code",
   "execution_count": 16,
   "metadata": {},
   "outputs": [],
   "source": [
    "# Pack Operations into one class for easy use.\n",
    "from pynq import Overlay\n",
    "from pynq import MMIO\n",
    "\n",
    "overlay = Overlay(\"design_1_wrapper.bit\", download = True)\n",
    "\n",
    "# Base address can be found in the Vivado Address Editor.\n",
    "base_address = 0x40000000\n",
    "# Memory size is determined by the BRAM IP's setting.\n",
    "mem_size = 1024\n",
    "\n",
    "class NeoPixel:\n",
    "    def __init__(self, base_addr = 0x40000000, mem_size = 1024, num_leds = 1):\n",
    "        self.mmio = MMIO(base_addr, mem_size)\n",
    "        self.num_leds = num_leds\n",
    "        self.base_addr = base_addr\n",
    "        self.addr_step = 0x4\n",
    "        num_leds = max(min(num_leds, 1023), 0)\n",
    "        self.mmio.write(0x0, self.num_leds)\n",
    "        \n",
    "    def set_rgb(self, index, r, g, b):\n",
    "        #if 0 <= index < self.num_leds:\n",
    "            #r = max(min(r, 255), 0)\n",
    "            #g = max(min(g, 255), 0)\n",
    "            #b = max(min(b, 255), 0)\n",
    "        color = g << 16 | r << 8 | b\n",
    "        mmio.write(0x4 + (0x4 * index), color)\n",
    "            \n",
    "    def set_rgb_all(self, r, g, b):\n",
    "        for i in range(self.num_leds):\n",
    "            self.set_rgb(i, r, g, b)\n",
    "            \n",
    "    def close(self):\n",
    "        for i in range(self.num_leds):\n",
    "            self.set_rgb(i, 0, 0, 0)"
   ]
  },
  {
   "cell_type": "code",
   "execution_count": 14,
   "metadata": {},
   "outputs": [],
   "source": [
    "led = NeoPixel(num_leds = 209)\n",
    "led.set_rgb(0, 0xFF >> 2, 0x00 >> 2, 0x00 >> 2)\n",
    "led.set_rgb(1, 0xFF >> 2, 0x7F >> 2, 0x00 >> 2)\n",
    "led.set_rgb(2, 0xFF >> 2, 0xFF >> 2, 0x00 >> 2)\n",
    "led.set_rgb(3, 0x00 >> 2, 0xFF >> 2, 0x00 >> 2)\n",
    "led.set_rgb(4, 0x00 >> 2, 0xFF >> 2, 0xFF >> 2)\n",
    "led.set_rgb(5, 0x00 >> 2, 0x00 >> 2, 0xFF >> 2)\n",
    "led.set_rgb(6, 0x8B >> 2, 0x00 >> 2, 0xFF >> 2)\n",
    "led.set_rgb(7, 0xFF >> 2, 0x00 >> 2, 0xFF >> 2)\n",
    "led.set_rgb(8, 0xFF >> 2, 0xFF >> 2, 0xFF >> 2)"
   ]
  },
  {
   "cell_type": "code",
   "execution_count": 17,
   "metadata": {},
   "outputs": [
    {
     "name": "stdout",
     "output_type": "stream",
     "text": [
      "24.5 µs ± 302 ns per loop (mean ± std. dev. of 7 runs, 10,000 loops each)\n"
     ]
    }
   ],
   "source": [
    "%%timeit\n",
    "led.set_rgb(0, 0xFF >> 2, 0x00 >> 2, 0x00 >> 2)"
   ]
  },
  {
   "cell_type": "code",
   "execution_count": 18,
   "metadata": {},
   "outputs": [],
   "source": [
    "led.close()"
   ]
  }
 ],
 "metadata": {
  "kernelspec": {
   "display_name": "Python 3 (ipykernel)",
   "language": "python",
   "name": "python3"
  },
  "language_info": {
   "codemirror_mode": {
    "name": "ipython",
    "version": 3
   },
   "file_extension": ".py",
   "mimetype": "text/x-python",
   "name": "python",
   "nbconvert_exporter": "python",
   "pygments_lexer": "ipython3",
   "version": "3.10.4"
  }
 },
 "nbformat": 4,
 "nbformat_minor": 2
}
